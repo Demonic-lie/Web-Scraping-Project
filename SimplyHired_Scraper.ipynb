{
 "cells": [
  {
   "cell_type": "code",
   "execution_count": 67,
   "id": "070e18bd-1886-4f24-bc06-78df8b3338ee",
   "metadata": {},
   "outputs": [],
   "source": [
    "from bs4 import BeautifulSoup\n",
    "import requests\n",
    "import headers_random as h\n",
    "import cloudscraper\n",
    "from datetime import datetime, timedelta\n",
    "import csv\n",
    "import os"
   ]
  },
  {
   "cell_type": "code",
   "execution_count": 68,
   "id": "32a3ddf3-0040-4907-b332-43e16c0313bd",
   "metadata": {},
   "outputs": [],
   "source": [
    "soup = ''"
   ]
  },
  {
   "cell_type": "code",
   "execution_count": 108,
   "id": "2ceffbbf-5e3e-4f6d-a098-2f716b3d5d1a",
   "metadata": {},
   "outputs": [],
   "source": [
    "url = \"https://www.simplyhired.com/search?q=data+scientist&l=\"\n",
    "url = \"https://www.simplyhired.com/search?q=full+stack+developer&l=\"\n",
    "url = \"https://www.simplyhired.com/search?q=flutter+developer&l=\"\n",
    "url = \"https://www.simplyhired.com/search?q=cloud+engineer&l=\"\n",
    "url = \"https://www.simplyhired.com/search?q=software+architect&l=\"\n",
    "\n",
    "scraper = cloudscraper.create_scraper()"
   ]
  },
  {
   "cell_type": "code",
   "execution_count": 114,
   "id": "9a59add9-341e-4574-b28a-cedfbf1be054",
   "metadata": {},
   "outputs": [
    {
     "name": "stdout",
     "output_type": "stream",
     "text": [
      "Got Access Successfully\n"
     ]
    }
   ],
   "source": [
    "try:\n",
    "    response = scraper.get(url, headers = h.random_header())\n",
    "    if response.status_code == 200:\n",
    "        print(\"Got Access Successfully\")\n",
    "        soup = BeautifulSoup(response.text,\"html.parser\")\n",
    "    else:\n",
    "        print(\"Oops! Got Stuck \", response.status_code)\n",
    "except Exception as e:\n",
    "    print(\"ERROR: \",e,\"!!!\")"
   ]
  },
  {
   "cell_type": "code",
   "execution_count": 115,
   "id": "3bcb18f5-df2f-4bb0-a45c-1688e467cca9",
   "metadata": {},
   "outputs": [],
   "source": [
    "# print(soup.prettify())"
   ]
  },
  {
   "cell_type": "code",
   "execution_count": 116,
   "id": "abf9c613-7d09-4b3d-b90a-43ca2e617bc2",
   "metadata": {},
   "outputs": [],
   "source": [
    "def convert_relative_date(posting_date_text):\n",
    "    current_date = datetime.now()\n",
    "    if 'h' in posting_date_text:\n",
    "        hours = int(posting_date_text.replace('h', ''))\n",
    "        posting_date = current_date - timedelta(hours=hours)\n",
    "    elif 'd' in posting_date_text:\n",
    "        days = int(posting_date_text.replace('d', ''))\n",
    "        posting_date = current_date - timedelta(days=days)\n",
    "    else:\n",
    "        return \"N/A\"\n",
    "        \n",
    "    formatted_date = posting_date.strftime('%d/%m/%Y')\n",
    "    return formatted_date"
   ]
  },
  {
   "cell_type": "raw",
   "id": "c913c9ae-463b-4ce4-8eac-50c777dcc000",
   "metadata": {},
   "source": [
    "Data To Extract:\n",
    "\n",
    "For each job posting, extract the following details:\r\n",
    "• Job Titl        donee\r\n",
    "• Company Na     doneme\r\n",
    "• Company l ... doneogo\r\n",
    "• Loca         donetion\r\n",
    "• Posting     done Date\r\n",
    "• Job Type (e.g., Full-time, Part ....   done-time)\r\n",
    "• Job Desc      doneri(ption\r\n",
    "• Required Qualif ...       ications\r\n",
    "• Preferred Qual ...) qualifications  doneification\r\n",
    "• Applic ....    doneation Link"
   ]
  },
  {
   "cell_type": "markdown",
   "id": "a6232439-1aad-4d68-ad32-86d4c619b93e",
   "metadata": {},
   "source": [
    "<li class=\"css-0\"><div data-jobkey=\"39ELijdxKh9dIC9aDSOiqu7FdxZWtpAMu31P4D6vkR9UyjEw3mWNkA\" role=\"presentation\" data-testid=\"searchSerpJob\" class=\"css-f8dtpc\">\n",
    "    <div class=\"chakra-stack css-1igwmid\"><h2 class=\"chakra-text css-8rdtm5\" data-testid=\"searchSerpJobTitle\"><a class=\"chakra-button css-1djbb1k\" data-mdref=\"/job/39ELijdxKh9dIC9aDSOiqu7FdxZWtpAMu31P4D6vkR9UyjEw3mWNkA?jobCardTrackingKey=5-yul1-0-1hsd7d8cvj4re801-9cb0c7768759bccf&amp;xkcb=SoA067M3BNG61CxcDZ0IbzkdCdPP\" href=\"/job/39ELijdxKh9dIC9aDSOiqu7FdxZWtpAMu31P4D6vkR9UyjEw3mWNkA\" tabindex=\"0\">Data Engineer</a></h2></div>\n",
    "    <p class=\"chakra-text css-1sawo7p\">\n",
    "        <span class=\"css-lvyu5j\"><span data-testid=\"companyName\">AE Strategies</span>&nbsp;—</span>\n",
    "        <span data-testid=\"searchSerpJobLocation\" class=\"css-1t92pv\">Remote</span>\n",
    "        <span aria-label=\"3.6 out of 5 stars\" data-testid=\"searchSerpJobCompanyRating\" role=\"img\" class=\"css-epvm6\"><span aria-hidden=\"true\" class=\"css-0\">3.6 </span><svg aria-hidden=\"true\" focusable=\"false\" data-prefix=\"fas\" data-icon=\"star\" class=\"svg-inline--fa fa-star  css-c4tn3a\" role=\"img\" xmlns=\"http://www.w3.org/2000/svg\" viewBox=\"0 0 576 512\"><path fill=\"currentColor\" d=\"M316.9 18C311.6 7 300.4 0 288.1 0s-23.4 7-28.8 18L195 150.3 51.4 171.5c-12 1.8-22 10.2-25.7 21.7s-.7 24.2 7.9 32.7L137.8 329 113.2 474.7c-2 12 3 24.2 12.9 31.3s23 8 33.8 2.3l128.3-68.5 128.3 68.5c10.8 5.7 23.9 4.9 33.8-2.3s14.9-19.3 12.9-31.3L438.5 329 542.7 225.9c8.6-8.5 11.7-21.2 7.9-32.7s-13.7-19.9-25.7-21.7L381.2 150.3 316.9 18z\"></path></svg></span></p><p class=\"chakra-text css-jhqp7z\" data-testid=\"searchSerpJobSnippet\">Data meta-analysis – develop and evaluate tools to summarize and validate data products. The support will include working directly with stakeholders, clients,…</p><div class=\"css-2imjyh\"><div class=\"css-1b6seq1\"><p class=\"chakra-text css-1ejkpji\" data-testid=\"searchSerpJobSalaryEst\">Estimated: $99.2K - $126K a year</p><button type=\"button\" class=\"chakra-button css-ttluco\" aria-label=\"job salary disclaimer\" data-testid=\"searchSerpJobSalaryDisclaimer\" id=\"popover-trigger-:r1i:\" aria-haspopup=\"dialog\" aria-expanded=\"false\" aria-controls=\"popover-content-:r1i:\"><svg aria-hidden=\"true\" focusable=\"false\" data-prefix=\"fas\" data-icon=\"circle-info\" class=\"svg-inline--fa fa-circle-info  css-86gbjf\" role=\"img\" xmlns=\"http://www.w3.org/2000/svg\" viewBox=\"0 0 512 512\"><path fill=\"currentColor\" d=\"M256 512A256 256 0 1 0 256 0a256 256 0 1 0 0 512zM216 336h24V272H216c-13.3 0-24-10.7-24-24s10.7-24 24-24h48c13.3 0 24 10.7 24 24v88h8c13.3 0 24 10.7 24 24s-10.7 24-24 24H216c-13.3 0-24-10.7-24-24s10.7-24 24-24zm40-208a32 32 0 1 1 0 64 32 32 0 1 1 0-64z\"></path></svg></button><div class=\"chakra-popover__popper css-1qq679y\" style=\"visibility: hidden; position: absolute; min-width: max-content; inset: 0px auto auto 0px;\"><section data-testid=\"searchSerpJobSalaryDisclaimerPopup\" id=\"popover-content-:r1i:\" tabindex=\"-1\" role=\"dialog\" class=\"chakra-popover__content css-438d7z\" style=\"transform-origin: var(--popper-transform-origin); opacity: 0; visibility: hidden; transform: scale(0.95) translateZ(0px);\"></section></div></div><div class=\"css-17xejub\"></div><p class=\"chakra-text css-5yilgw\" data-testid=\"searchSerpJobDateStamp\">23h</p></div></div></li>\n",
    "\n",
    "\n",
    "<li class=\"css-0\"><div data-jobkey=\"32CTEd9EwhzAD11mL7lUNSavfdLxdbgitkkdlmVH4T_pyyrxdEXO0w\" role=\"presentation\" data-testid=\"searchSerpJob\" class=\"css-f8dtpc\">\n",
    "    <div class=\"chakra-stack css-1igwmid\"><h2 class=\"chakra-text css-8rdtm5\" data-testid=\"searchSerpJobTitle\"><a class=\"chakra-button css-1djbb1k\" data-mdref=\"/job/32CTEd9EwhzAD11mL7lUNSavfdLxdbgitkkdlmVH4T_pyyrxdEXO0w?jobCardTrackingKey=5-yul1-0-1hsd7d8cvj4re801-5fad057e3c830f19&amp;xkcb=SoBx67M3BNG61CRcDZ0IbzkdCdPP\" href=\"/job/32CTEd9EwhzAD11mL7lUNSavfdLxdbgitkkdlmVH4T_pyyrxdEXO0w\" tabindex=\"0\">Data Science Engineer</a></h2></div>\n",
    "    <p class=\"chakra-text css-1sawo7p\">\n",
    "        <span class=\"css-lvyu5j\"><span data-testid=\"companyName\">Kaizen Analytix</span>&nbsp;—</span>\n",
    "        <span data-testid=\"searchSerpJobLocation\" class=\"css-1t92pv\">Remote</span><span aria-label=\"2 out of 5 stars\" data-testid=\"searchSerpJobCompanyRating\" role=\"img\" class=\"css-epvm6\"><span aria-hidden=\"true\" class=\"css-0\">2 </span><svg aria-hidden=\"true\" focusable=\"false\" data-prefix=\"fas\" data-icon=\"star\" class=\"svg-inline--fa fa-star  css-c4tn3a\" role=\"img\" xmlns=\"http://www.w3.org/2000/svg\" viewBox=\"0 0 576 512\"><path fill=\"currentColor\" d=\"M316.9 18C311.6 7 300.4 0 288.1 0s-23.4 7-28.8 18L195 150.3 51.4 171.5c-12 1.8-22 10.2-25.7 21.7s-.7 24.2 7.9 32.7L137.8 329 113.2 474.7c-2 12 3 24.2 12.9 31.3s23 8 33.8 2.3l128.3-68.5 128.3 68.5c10.8 5.7 23.9 4.9 33.8-2.3s14.9-19.3 12.9-31.3L438.5 329 542.7 225.9c8.6-8.5 11.7-21.2 7.9-32.7s-13.7-19.9-25.7-21.7L381.2 150.3 316.9 18z\"></path></svg></span></p><p class=\"chakra-text css-jhqp7z\" data-testid=\"searchSerpJobSnippet\">As a Data Science Engineer, you will be expected to support existing data science use cases / optimization processes and the associated data engineering work…</p><div class=\"css-2imjyh\"><p class=\"chakra-text css-1g1y608\" data-testid=\"searchSerpJobSalaryConfirmed\">$60 - $65 an hour</p><p class=\"chakra-text css-u40boz\" data-testid=\"searchSerpJobQuickApply\">Quick Apply</p><div class=\"css-17xejub\"></div><p class=\"chakra-text css-5yilgw\" data-testid=\"searchSerpJobDateStamp\">23h</p></div></div></li>"
   ]
  },
  {
   "cell_type": "code",
   "execution_count": 117,
   "id": "1ff1b5d8-ed67-4209-9422-613f51308462",
   "metadata": {},
   "outputs": [],
   "source": [
    "jobs_postings = soup.find_all('li', class_=\"css-0\")"
   ]
  },
  {
   "cell_type": "code",
   "execution_count": 118,
   "id": "ff3f4aad-766e-4703-ad7f-c24e434dbf08",
   "metadata": {},
   "outputs": [
    {
     "name": "stdout",
     "output_type": "stream",
     "text": [
      "[{'Job Title': 'IOS Architect', 'Job Description': 'Develop and maintain current and future-state architecture models. Lead the business/functional architecture and strategy for solutions in a manner consistent…', 'Company Name': 'Zenith Services\\xa0', 'Job Type': 'N/A', 'Job Location': 'Seattle, WA', 'Posted On': '26/04/2024', 'Company Logo': 'N/A', 'Qualifications': ['Jira', 'Computer science', 'Cloud architecture', 'Computer Science', 'iOS development', 'DevOps', 'iOS', '3 years', 'AWS', \"Bachelor's degree\", 'Confluence'], 'Application Link': '/out?r=w_chAYWN8rO1Pph9tg0tRy2DmhPiAnvVdA9IZMaaJwZXQMhfIqFDkAT05HfkFlzcyqaibb_Eng0NTY3gWNz0yneGXB2lnXNNT105mSGp-hcJI_3H9LMmB3s0A3hnd33qGOt-orAaP9-I6xuBgOvSJILmNrvNoztcPFTuAWs'}, {'Job Title': 'Software Architect', 'Job Description': 'Designs high-level software, develops high-level product specifications, and determines technical standards, including software coding standards, tools, and…', 'Company Name': 'BBCH\\xa0', 'Job Type': 'Full-time', 'Job Location': 'Remote', 'Posted On': '26/04/2024', 'Company Logo': 'N/A', 'Qualifications': ['Azure', 'GSEC', 'DevOps', 'Secret Clearance', \"Bachelor's degree\", 'DoD 8570', 'Scrum', 'Agile', '9 years', 'CompTIA Security+', 'Leadership', 'SSCP'], 'Application Link': '/out?r=aED8buM-ZQ6n6ne6F1lTkIWeuUeoDMq7EFgjlDIAUbWYVXHM83caTbbjCpprYSpgz0eHcefvk4xJXSAIO6BUIz6uYswb6eiS1XmYz2pbiCj1c6RmIR49jNqRXOa3soRmbv-1RNejQqVNBAq3m0Ty9HwAXjkCdbmS-t5cs2IK7d8G_CDZ9oNSZyxaEvgaFQFEsw'}, {'Job Title': 'Software Architect (Remote)', 'Job Description': 'Provide technical guidance, specifications and documentation to product engineering teams. Ability to communicate complex technical problems, root cause…', 'Company Name': 'Teaching Strategies, LLC\\xa0', 'Job Type': 'Full-time', 'Job Location': 'Remote', 'Posted On': 'N/A', 'Company Logo': 'https://d2q79iu7y748jz.cloudfront.net/s/_squarelogo/128x128/43e3167b3473789a92dab9e2c8382d36', 'Qualifications': ['Paid parental leave', 'Disability insurance', 'Health insurance', 'Unlimited paid time off', 'Flexible spending account', 'Tuition reimbursement', 'Parental leave', '401(k) matching', 'Flexible schedule', 'B2C', 'ERP systems', 'System design', 'Google Cloud Platform', 'AWS', 'Software development', 'Agile', 'Root cause analysis', 'SaaS', 'Software architecture', 'Debugging', '10 years', 'Design patterns'], 'Application Link': '/out?r=MLG0oRSWFRgB0VRBdWqcxoEB9HE15oELwg8HNciFPCNtTMQIad5leHphJUgoK9kAZFnM-VmtlpGA0GW0wVNDlNzIQ4lW4BuL0t3PiKiVv-rYnhfzINMrFqQZEex54RwD5p-D'}, {'Job Title': 'SQL Server Architect', 'Job Description': 'As a SQL Server Architect, you will also be responsible for architecture and management of enterprise-level SQL Server Always-On High Availability groups (SQL…', 'Company Name': 'Intone Networks\\xa0', 'Job Type': 'Contract', 'Job Location': 'Remote', 'Posted On': '23/04/2024', 'Company Logo': 'https://d2q79iu7y748jz.cloudfront.net/s/_squarelogo/128x128/e49b869b922dbb240e92500077beef77', 'Qualifications': ['Jira', 'Microsoft SQL Server', 'Change management', 'SQL', 'ServiceNow'], 'Application Link': '/out?r=P_aOKCr3d2o7PDSVSKoeQqfvZQAp7LncSMeu4bmFuGMgqWDchBdvh-QK3YiW7_SnGlF4XMO6Au1bnskW7zyK0Bl_1wQ699PfZc4gcw'}, {'Job Title': 'Software Architect', 'Job Description': 'Active participation in high-level technical design and architecture. Iron Mountain helps lower cost and risk, comply with regulations, recover from disaster,…', 'Company Name': 'Iron Mountain\\xa0', 'Job Type': 'N/A', 'Job Location': 'Concord, NH', 'Posted On': '26/04/2024', 'Company Logo': 'https://d2q79iu7y748jz.cloudfront.net/s/_squarelogo/128x128/8d72ce8256d706e5edfacc05d2eab580', 'Qualifications': ['Spring Boot', '7 years', 'Oracle', 'React', 'Kubernetes', 'XML', 'NoSQL', 'Git', 'Google Cloud Platform', 'Java', \"Master's degree\", 'Microservices', 'SQL', 'AWS', 'Docker', \"Bachelor's degree\", 'Machine learning', 'JavaScript', 'PostgreSQL', 'REST', 'Redux', 'Computer Engineering', 'Organizational skills', 'Software development', 'APIs', 'IT', 'JSON', 'Kafka', 'AI', 'Jenkins', 'GitLab', 'Communication skills', 'Information management', 'Spring'], 'Application Link': '/out?r=tZGP0_9xGYGUuBpZRtE3DuAp2t-BI6GnzM_TVx-EFGDvXy1ayWj39Rb_7XAk3onB2KSgnKKq4FFoj2ZQAYHjpmG66dAbkIUyjUped09eifyXliXcMyVG_AI4'}, {'Job Title': 'AI/ML Software Architect', 'Job Description': 'Strong communication skills with the ability to articulate complex technical concepts to both technical and non-technical stakeholders.', 'Company Name': 'Advanced Micro Devices, Inc\\xa0', 'Job Type': 'N/A', 'Job Location': 'San Diego, CA', 'Posted On': '27/04/2024', 'Company Logo': 'https://d2q79iu7y748jz.cloudfront.net/s/_squarelogo/128x128/0d88c8b7ad753413e8139d134955d34d', 'Qualifications': ['Employee stock purchase plan', 'GPU programming', 'TensorFlow', 'Doctoral degree', 'Computer Science', 'PyTorch', 'Computer vision', \"Master's degree\", 'C++', \"Bachelor's degree\", 'Machine learning', 'Doctor of Philosophy', 'Deep learning', 'APIs', 'AI', 'Communication skills'], 'Application Link': '/out?r=yRoscP3X8cIFZuMYjDDjlB3xrLln2gHgGQwWG6gGBLccwzzURoV-xRwqzSF487WxO4lXvt6m-_DtXp6GT0sy67P0OgeGxGpA_F4KlZkrlxDmZclbMIEJaEObGpGZe8tNjwxQHd5zjiSURXd1IRlDrkIvWtxg9X8wv1gwaJd5nxCfJmvjDAXKJEg7qiUNV1D2X3kiGhszeYzxmHE0oBl3VmcEOFfangQuhFPOlftskwKC1wWam1wup_BeE3ZgK_T0nsWDsKpgqx6gZ8mgOVq7_hh-z58'}, {'Job Title': 'Software Architect', 'Job Description': 'Provides technical guidance to software engineering team and collaborates with Systems Engineering team in overcoming technical obstacles.', 'Company Name': 'E-Logic, Inc.\\xa0', 'Job Type': 'Contract', 'Job Location': 'Washington, DC', 'Posted On': '26/04/2024', 'Company Logo': 'https://d2q79iu7y748jz.cloudfront.net/s/_squarelogo/128x128/87c78123a35ca65bcd8a6bd9a29f60c9', 'Qualifications': ['401(k)', '401(k) matching', 'ASP.NET', 'Secret Clearance', '11+ years', 'Microsoft Certified: Azure Data Engineer Associate', \"Associate's degree\", 'Editing'], 'Application Link': '/out?r=_4VaPh7dZZKEBxgIBNlWa_BCGGCBZPT_De2XE6PYTSbUkaGINJP8U6fBtpw_d0DY1EXT4JgmdnmP_IGlGCeMu4xMORsrqgfelk9mhlI75vE7kDVp7z_Ek3pOBkN-'}, {'Job Title': 'Systems Software Architect', 'Job Description': 'Relevent programming experience in the following: Programming experience in C/C++, Knowledge in scripting languages, tools (Python), Debug and testing,…', 'Company Name': 'INTEL\\xa0', 'Job Type': 'Full-time', 'Job Location': 'Remote', 'Posted On': 'N/A', 'Company Logo': 'https://d2q79iu7y748jz.cloudfront.net/s/_squarelogo/128x128/a458bf4fc3f3de2f1a11c8236832b909', 'Qualifications': ['Health insurance', 'TensorFlow', 'Law', 'PyTorch', 'FPGA', '5 years', 'Data analysis skills', \"Master's degree\", 'C++', 'C', \"Bachelor's degree\", 'Distributed systems', 'Deep learning', 'Computer Engineering', 'Scripting', 'Computer Programming', 'Distributed computing', 'Electrical Engineering', 'AI', 'Python'], 'Application Link': '/out?r=QM7w6LRVnHUEwQl-09SPp3JWXAcshGKDEw5kfE4Kd3sCaDIMIOVKSccz31WWXuejL7ATCH_0M0_cc7IQofyfFJXBTB2xVyUNIrLEYc8k'}, {'Job Title': 'Technical Architect | Middleware/Integration/iPaaS)', 'Job Description': 'Manhattan Project implementation: 3 years (Preferred). (Manhattan Integration Framework), as well as Middleware/Integration/iPaaS expertise.', 'Company Name': 'Infoway solutions LLC\\xa0', 'Job Type': 'Contract', 'Job Location': 'Remote', 'Posted On': '18/04/2024', 'Company Logo': 'N/A', 'Qualifications': ['Warehouse management system', 'Project implementation', '2 years'], 'Application Link': '/out?r=9xhMDl-QYaDheiivdL1BYHEbPtSKp2GElWIH7_gaf53pWLx-gbet0GuJBReOcN5U33ft4gSlRnfVlGzzuHODQnhlLDNnLAGpIZYadcPkS2kS5OChokej500Lf9hDZQcYHCdewuIPm_lckvDsghmrPNP0nWqfBaE-0g'}, {'Job Title': 'Only W2 - Network Architect', 'Job Description': 'The primary purpose of the Principal Network Architect role is to provide strategic and technical leadership, design, direction, oversight, and guidance for DIT…', 'Company Name': 'American Unit Inc\\xa0', 'Job Type': 'Contract', 'Job Location': 'Remote', 'Posted On': '23/04/2024', 'Company Logo': 'N/A', 'Qualifications': ['5 years', 'LAN', 'Network architecture'], 'Application Link': '/out?r=qri99n9y9WcIqOsc6AAmuG1NnUQc6ZVhHP5PZiJBHDjaX6HLOvKE3C2jCvEuxoKZ3-GuxQszyUrpyBQD57ZsRDc1L1Jf_KX3dxkcUGmBsndnH7IbBDeKcNcQKW7Y8OWJC5VZRw'}, {'Job Title': 'Software Full Stack Developer - Architect', 'Job Description': 'Bachelor’s degree in computer science, IT, Business or related field, or equivalent professional and technical experience.', 'Company Name': 'Service Credit Union\\xa0', 'Job Type': 'Full-time', 'Job Location': 'Portsmouth, NH', 'Posted On': '26/04/2024', 'Company Logo': 'https://d2q79iu7y748jz.cloudfront.net/s/_squarelogo/128x128/9bb74fa1d64ff97f246e01ea23041416', 'Qualifications': ['401(k) 8% Match', 'Disability insurance', 'Health insurance', 'Dental insurance', '401(k)', 'Tuition reimbursement', 'Paid time off', 'Employee assistance program', 'Vision insurance', '401(k) matching', 'Benefits from day one', 'Opportunities for advancement', 'Life insurance', 'Referral program', 'Computer science', 'Computer Science', 'CSS', 'RESTful API', '3 years', 'Analysis skills', \"Bachelor's degree\", 'JavaScript', 'REST', 'Agile', 'IT', 'HTML5'], 'Application Link': '/out?r=Cg2b52lopKIAxIXs_V09VGVrdyWrzveFVd1yT9ofH3rW7qk8ed1L7PZa2vAsabWuZApTn4JTJeQ9UAOJf0-u9NiooJdchAffQ0y55_VvV2Gr9SwFOJ6HrmgeCK28M5GvQwCBpFwMI5BZ0ec8lydHMxwL'}, {'Job Title': 'Software Architect (Remote)', 'Job Description': 'This role for a Software Architect reports directly to the SVP Engineering and will act as a strategic technical voice in defining the evolution of the product…', 'Company Name': 'Rula\\xa0', 'Job Type': 'Full-time', 'Job Location': 'California', 'Posted On': 'N/A', 'Company Logo': 'https://d2q79iu7y748jz.cloudfront.net/s/_squarelogo/128x128/8724260c156e80abe7b197f67d3f6f6c', 'Qualifications': ['Paid parental leave', 'Health savings account', 'Health insurance', 'Dental insurance', '401(k)', 'Flexible spending account', 'Parental leave', 'Employee assistance program', 'Vision insurance', 'Lunch & learns', '11+ years', 'SRE', 'SaaS', 'Communication skills'], 'Application Link': '/out?r=45C0YGPb6NNbhkZtZzIyevor4OjNuCZwzhnVaJdwV1olbqvOrwP0F4VLypRCftyoQjzRYyZxmvdP3_UWEt0jxdd562xqI35E2IVgujEmcZ8VcQQbIgLshnwvXKDwd-5EvepMfXzqzM49Ugaxrm0f1mOLpLtb7xMB'}, {'Job Title': 'Business Intelligence Architect', 'Job Description': 'Communicate effectively to convey complex technical concepts to non-technical stakeholders. Bachelor’s degree in a relevant field; additional certifications are…', 'Company Name': 'Kanini Software Solutions\\xa0', 'Job Type': 'Full-time | Contract', 'Job Location': 'Nashville, TN', 'Posted On': '25/04/2024', 'Company Logo': 'https://d2q79iu7y748jz.cloudfront.net/s/_squarelogo/128x128/276b96883f07c2cda77eb8771cb5e96e', 'Qualifications': ['Health insurance', 'Dental insurance', '401(k)', 'Power BI', 'Business intelligence', 'Data structures', 'Tableau', 'Analysis skills', \"Bachelor's degree\", 'ETL', 'Data visualization', 'Communication skills'], 'Application Link': '/out?r=0MlNSCM-A_QEkWDE_03rD25g1-Z8C8l_N9XSBbxvZ6FwIMTk_66xAcOtktUCAZgdbAwR5OcHf48hqY97DbBcs5zPiyFIsOYeilwUYQqO_WrYHUAs7ZOUuDAXL3ZrgCF77CiG8__gNn_dkA'}, {'Job Title': 'Cloud Architect - Remote', 'Job Description': 'Bachelor’s degree in Computer Science, Computer Engineering, Information Technology, or related field; or equivalent related work experience.', 'Company Name': 'GXO Logistics\\xa0', 'Job Type': 'N/A', 'Job Location': 'Florida', 'Posted On': '23/04/2024', 'Company Logo': 'https://d2q79iu7y748jz.cloudfront.net/s/_squarelogo/128x128/67e4467b3eaa7848aede464517d9a557', 'Qualifications': ['Health insurance', 'Dental insurance', '401(k)', 'Vision insurance', 'Life insurance', '7 years', 'Cloud infrastructure', 'Azure', 'Cloud architecture', 'Computer Science', 'Google Cloud Platform', \"Master's degree\", 'AWS', \"Bachelor's degree\", 'Computer Engineering', 'IT'], 'Application Link': '/out?r=Oms8hnArDXFqjYvXmTvIz6UmWzs1i9hinCAK586A3HTZXEa9wXeuiyfhOb1Gd80tRMTVOTH4kP5xL7LZkVwjDyGZ_LEobae90NVcizs_mWKb7l4dD9IkscioGKP2OfO7T5hg7rvGXqREAHJ6BOxjlMoT1-MXZc85qBEJ41SZEzDqOp2-nb2t26d2Bz7OL4RQyxu9-E0ekJB9f_qGmCPq6YkwFA'}, {'Job Title': 'Information Architect', 'Job Description': 'Bachelor’s or master’s degree in an analytic, data-focused field such as library and information sciences, linguistics, businesses administration.', 'Company Name': 'Pivotree\\xa0', 'Job Type': 'Full-time', 'Job Location': 'United States', 'Posted On': '25/04/2024', 'Company Logo': 'https://d2q79iu7y748jz.cloudfront.net/s/_squarelogo/128x128/cc770e6083a5b69131bc9701feed5cc9', 'Qualifications': ['5 years', 'Taxonomy', \"Master's degree\", \"Bachelor's degree\", 'Mentoring', 'Budgeting', 'Project leadership', 'Leadership', 'Communication skills', 'Master data management'], 'Application Link': '/out?r=EMviHfoXDl9_oV3rH2j_v80uXqmLe29cGAQZ-Yrox4sp0lyOGJuDX0Kf-YNYW35DvKHMz1jZtQhwakJwfkNO7oiYnaniqZw5m1gmAwJINOYTw-OCKw5YohRhn10tIKXvIuT_P7doJmKEVy329mo-q6YOWzvg7ODVhf25E2I0n-33nA'}, {'Job Title': 'Integration Architect – Inventory Management', 'Job Description': 'Create technical documentation, user guides, and training materials to facilitate user adoption and support. Role: integration Architect – Inventory Management …', 'Company Name': 'SolGenie Technologies, Inc.\\xa0', 'Job Type': 'Contract', 'Job Location': 'Remote', 'Posted On': 'N/A', 'Company Logo': 'N/A', 'Qualifications': ['Oracle', 'Inventory management'], 'Application Link': '/out?r=1J0KfyxYNIlzW9q9x49TJ7ocBNanWV_oFSJywzeZfGkM7QEVt4FrGCB_SxV1G5D7Jcn-MWZUzk3d2kIR7SUrFIZOgKv6H_jpP4V-5Ds2hQbmvmfGA0Qenq-Oql2b_zzE6zjI4SYdtjdfr4BsR8ae5h4DFSD8'}, {'Job Title': 'Cloud Architect', 'Job Description': 'Cloud Strategy: *Develops and drives the end-to-end technical roadmap for existing and proposed cloud services and articulates impact on the broader strategy;…', 'Company Name': 'TMH Solutions, LLC\\xa0', 'Job Type': 'Contract', 'Job Location': 'Columbus, OH', 'Posted On': '18/04/2024', 'Company Logo': 'N/A', 'Qualifications': ['Knowledge management', 'Azure', 'Management', 'Cloud architecture', '5 years', 'DevOps', 'PaaS', 'APIs', 'IaaS'], 'Application Link': '/out?r=NmgOL8H2_B5P-fz6FqUj-7SoCjRybQRn6G6p6ytAdeQeXCF05Oj9kuz7IG-r_bidt4awkVR25f5rE2_8wC3kMiwTqgjAq3I7e4J1yszBXAEzVEKyYbbctnQl'}, {'Job Title': 'AEM Technical Architect', 'Job Description': 'As an Architect/ Manager you will be responsible for translating client content management requirements into technical designs which includes enterprise-level…', 'Company Name': 'Tech Intellectuals\\xa0', 'Job Type': 'Full-time', 'Job Location': 'Remote', 'Posted On': '20/04/2024', 'Company Logo': 'https://d2q79iu7y748jz.cloudfront.net/s/_squarelogo/128x128/9c36eeb82e91fff13fb3fc4d9fb80a98', 'Qualifications': ['Health insurance', 'Dental insurance', '401(k)', 'Vision insurance', 'Cloud architecture', 'CSS', 'XML', 'Multilingual', 'Social media management', 'Software deployment', 'Java', \"Bachelor's degree\", 'JavaScript', 'REST', 'Scrum', 'Adobe Experience Manager', 'Agile', 'Content management', 'Financial services', 'Apache', 'Leadership', '2 years', 'Communication skills', 'Spring', 'HTML5', 'Analytics', 'SDLC', '10 years', 'Design patterns'], 'Application Link': '/out?r=D_8Euz28tWfa6UAHw8pi5t9-6t0OyobMuOOBJpyefvlP73Gyl96jjDXEpdrTgBUQjgcZiLY6k12E869ukKWPdwC9AJrvPc7sAEnKCb2L83IjS9JqMgFnEsvvaTCEiari0mE'}, {'Job Title': 'Architect / Sr. Software Engineer', 'Job Description': 'As a member of this team, you will contribute to developing world-class processes and tools that seamlessly integrate machine learning and statistical computing…', 'Company Name': '3M\\xa0', 'Job Type': 'Full-time', 'Job Location': 'Minnesota', 'Posted On': '19/04/2024', 'Company Logo': 'https://d2q79iu7y748jz.cloudfront.net/s/_squarelogo/128x128/5c526a0dc0517eec62343fcd934fdad8', 'Qualifications': ['Health savings account', 'Disability insurance', 'Health insurance', 'Dental insurance', 'Flexible spending account', 'Vision insurance', 'Life insurance', 'Retirement plan', 'CI/CD', 'Azure', 'RESTful API', 'Full-stack development', '5 years', 'Military', 'DevOps', 'Mobile applications', 'C#', 'NoSQL', 'Google Cloud Platform', 'Java', 'Microservices', 'High school diploma or GED', 'SQL', 'Database design', 'AWS', \"Bachelor's degree\", 'Machine learning', 'Continuous improvement', 'Distributed systems', 'Virtualization', 'Software development', 'APIs', 'Web services', 'AI', 'Communication skills', 'Python', 'Marketing', 'SDLC', 'Design patterns'], 'Application Link': '/out?r=ctQiUMXOXHekhssKmTupiXHEdngJLDv-eTPMpeTt5yXM6CjGEv9Bkhb5ZI-PIygqYvNVnej_TudQ6-Dw7bEnZS5U9MOzElIJbIzBf0eVsbw6JsR5bYgMngrEfYgVnuTS3zAdRme5Tkzg9TizKbme__UZ2bDS07g6cLo0Xg5jrb_9-wdCoOuQKXH2e7sKVkk'}, {'Job Title': 'Senior Application Architect', 'Job Description': 'You will work closely with cross-functional teams to develop and deliver technical solution, documentation, and resources. Use your skills to make an impact.', 'Company Name': 'Humana\\xa0', 'Job Type': 'Full-time', 'Job Location': 'Kentucky', 'Posted On': '26/04/2024', 'Company Logo': 'https://d2q79iu7y748jz.cloudfront.net/s/_squarelogo/128x128/41f10e4f19f3ffd53d19aa4e14082a08', 'Qualifications': ['Paid parental leave', 'Caregiver leave', 'Disability insurance', 'Health insurance', 'Dental insurance', '401(k)', 'Paid time off', 'Work from home', 'Parental leave', 'Vision insurance', '401(k) matching', 'Benefits from day one', 'Volunteer time off', 'Life insurance', 'Computer science', 'Computer Science', \"Master's degree\", \"Bachelor's degree\", 'Agile', 'IT', 'Kafka', 'Communication skills'], 'Application Link': '/out?r=uDGRnlsECmTQ94LR3u94_z99xaN1heLxlM88qWhrvqiAG5Zn5FSne72E_LueQ9cgnYcsXaJznIFDT-TLiubybpuE4DpLDWfLrg'}]\n",
      "\n"
     ]
    }
   ],
   "source": [
    "job_details = []\n",
    "for job in jobs_postings:\n",
    "    \n",
    "    job_title_element = job.find('h2', class_ = 'css-8rdtm5')\n",
    "    job_title = job_title_element.text.strip() if job_title_element else \"N/A\"\n",
    "\n",
    "    job_description_element = job.find('p', class_ = 'css-jhqp7z')\n",
    "    job_description = job_description_element.text.strip() if job_description_element else \"N/A\"\n",
    "\n",
    "    company_name_element = job.find('span', class_ = 'css-lvyu5j')\n",
    "    company_name = company_name_element.text.strip() if company_name_element else \"N/A\"\n",
    "    company_name = company_name.strip('—')\n",
    "\n",
    "    location_element = job.find('span', class_ = 'css-1t92pv')\n",
    "    location = location_element.text.strip() if location_element else \"N/A\"\n",
    "\n",
    "    posting_date_element = job.find('p', class_ = 'css-5yilgw')\n",
    "    posting_date = posting_date_element.text.strip() if posting_date_element else \"N/A\"\n",
    "    if posting_date != \"N/A\":\n",
    "        posting_date = convert_relative_date(posting_date)\n",
    "\n",
    "    job_link_element = job.find('a', class_ = 'css-1djbb1k')\n",
    "    job_link = 'https://www.simplyhired.com' + job_link_element['href'] if job_link_element else 'N/A'\n",
    "    if job_link != 'N/A':\n",
    "        attempts = 0\n",
    "        response = scraper.get(job_link, headers = h.random_header())\n",
    "        while response.status_code != 200 and attempts < 5:                             #to improve the chances of accessing job link, increase attempts\n",
    "            response = scraper.get(job_link, headers = h.random_header())\n",
    "            attempts += 1\n",
    "        if response.status_code == 200:\n",
    "            soup_job = BeautifulSoup(response.text, 'html.parser')\n",
    "            \n",
    "            company_logo_element = soup_job.find('img', class_='css-sm43lu')\n",
    "            company_logo = company_logo_element['src'] if company_logo_element else \"N/A\"\n",
    "\n",
    "            job_type_element = soup_job.find('span', class_='chakra-stack css-xyzzkl', attrs={'data-testid': 'viewJobBodyJobDetailsJobType'})\n",
    "            job_type = job_type_element.find('span', {'data-testid': 'detailText'}).text.strip() if job_type_element else 'N/A'\n",
    "\n",
    "            qualification_element = soup_job.find_all('span', class_ = 'css-p3sbg2')\n",
    "            qualification = [qual.text.strip() for qual in qualification_element] if qualification_element else []\n",
    "        \n",
    "            application_link_element = soup_job.find('a', class_ = 'css-1wzc2gy')\n",
    "            if application_link_element:                                                                   #Apply Now\n",
    "                application_link = application_link_element['href']\n",
    "            else:                                                                                         #Quick Apply \n",
    "                application_link_element = soup_job.find('a', class_ = 'css-24yw96')\n",
    "                application_link = application_link_element['href'] if application_link_element else \"Job Expired\"\n",
    "\n",
    "\n",
    "            \n",
    "        else:\n",
    "            company_logo = job_type = qualification = application_link = \"Failed To Access: Blocked by CloudFlare\"\n",
    "            \n",
    "\n",
    "\n",
    "    job_details.append({\"Job Title\": job_title, \"Job Description\": job_description, \"Company Name\": company_name, \"Job Type\": job_type, \"Job Location\": location, \"Posted On\": posting_date, \"Company Logo\": company_logo, \"Qualifications\": qualification,\"Application Link\": application_link})\n",
    "    # print(\"Job Title : \",job_title)\n",
    "    # print(\"Job Description : \", job_description)\n",
    "    # print(\"Company Name : \", company_name)\n",
    "    # print(\"Job Type : \", job_type)\n",
    "    # print(\"Job Location : \", location)\n",
    "    # print(\"Posted On : \", posting_date)\n",
    "    # # print(job_link)\n",
    "    # print(\"Company Logo : \", company_logo)\n",
    "    # print(\"Qualifications : \", qualification)\n",
    "    # print(\"Application Link : \", application_link)\n",
    "\n",
    "print(job_details)\n",
    "print()"
   ]
  },
  {
   "cell_type": "code",
   "execution_count": 119,
   "id": "8c283e07-8b57-463d-ac6a-2faa351954e1",
   "metadata": {},
   "outputs": [
    {
     "name": "stdout",
     "output_type": "stream",
     "text": [
      "Successfully written to Job_Postings.csv\n"
     ]
    }
   ],
   "source": [
    "fields = [\n",
    "    'Job Title',\n",
    "    'Job Description',\n",
    "    'Company Name',\n",
    "    'Job Type',\n",
    "    'Job Location',\n",
    "    'Posted On',\n",
    "    'Company Logo',\n",
    "    'Qualifications',\n",
    "    'Application Link'\n",
    "]\n",
    "\n",
    "csv_filename = \"Job_Postings.csv\"\n",
    "\n",
    "\n",
    "if not os.path.exists(csv_filename):\n",
    "    with open(csv_filename, 'w', encoding='utf-8', errors='ignore') as csvfile:\n",
    "        writer = csv.DictWriter(csvfile, fieldnames=fields)\n",
    "        writer.writeheader()\n",
    "        writer.writerows(job_details)\n",
    "        print(f\"Created and Successfully written to {csv_filename}\")\n",
    "else:\n",
    "    with open(csv_filename, 'a', encoding='utf-8', errors='ignore') as csvfile:\n",
    "        writer = csv.DictWriter(csvfile, fieldnames=fields)\n",
    "        writer.writerows(job_details)\n",
    "        print(f\"Successfully written to {csv_filename}\")\n"
   ]
  },
  {
   "cell_type": "code",
   "execution_count": null,
   "id": "1effd94c-469d-453c-bdb0-bcd1c0dcb0a9",
   "metadata": {},
   "outputs": [],
   "source": []
  },
  {
   "cell_type": "code",
   "execution_count": null,
   "id": "74a3b097-2e96-4f74-98e7-d74aaea2ea62",
   "metadata": {},
   "outputs": [],
   "source": []
  },
  {
   "cell_type": "code",
   "execution_count": null,
   "id": "bf9f15a0-d906-4282-bce2-b5b6402391d6",
   "metadata": {},
   "outputs": [],
   "source": []
  },
  {
   "cell_type": "code",
   "execution_count": null,
   "id": "831e21c0-c318-49ea-bf06-b6644c5b99f9",
   "metadata": {},
   "outputs": [],
   "source": []
  },
  {
   "cell_type": "code",
   "execution_count": null,
   "id": "2ebbf380-8de2-44b8-aa31-9e5f9a0cf152",
   "metadata": {},
   "outputs": [],
   "source": []
  },
  {
   "cell_type": "code",
   "execution_count": null,
   "id": "6bb6a0d3-e49c-4279-a9fa-7fccbfee955d",
   "metadata": {},
   "outputs": [],
   "source": []
  }
 ],
 "metadata": {
  "kernelspec": {
   "display_name": "Python 3 (ipykernel)",
   "language": "python",
   "name": "python3"
  },
  "language_info": {
   "codemirror_mode": {
    "name": "ipython",
    "version": 3
   },
   "file_extension": ".py",
   "mimetype": "text/x-python",
   "name": "python",
   "nbconvert_exporter": "python",
   "pygments_lexer": "ipython3",
   "version": "3.11.4"
  }
 },
 "nbformat": 4,
 "nbformat_minor": 5
}
